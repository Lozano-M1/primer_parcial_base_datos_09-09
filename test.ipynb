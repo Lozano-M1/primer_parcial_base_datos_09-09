{
 "cells": [
  {
   "cell_type": "code",
   "execution_count": null,
   "id": "6faaa9a6",
   "metadata": {},
   "outputs": [
    {
     "ename": "NameError",
     "evalue": "name 'List' is not defined",
     "output_type": "error",
     "traceback": [
      "\u001b[31m---------------------------------------------------------------------------\u001b[39m",
      "\u001b[31mNameError\u001b[39m                                 Traceback (most recent call last)",
      "\u001b[36mCell\u001b[39m\u001b[36m \u001b[39m\u001b[32mIn[7]\u001b[39m\u001b[32m, line 3\u001b[39m\n\u001b[32m      1\u001b[39m \u001b[38;5;66;03m# TODO 3: Implementa bubble sort O(n^2)\u001b[39;00m\n\u001b[32m----> \u001b[39m\u001b[32m3\u001b[39m \u001b[38;5;28;01mdef\u001b[39;00m\u001b[38;5;250m \u001b[39m\u001b[34mbubble_sort\u001b[39m(xs:\u001b[43mList\u001b[49m[\u001b[38;5;28mint\u001b[39m]) -> List[\u001b[38;5;28mint\u001b[39m]:\n\u001b[32m      4\u001b[39m     xs = xs[:]  \u001b[38;5;66;03m# no mutar entrada\u001b[39;00m\n\u001b[32m      5\u001b[39m     n = \u001b[38;5;28mlen\u001b[39m(xs)\n",
      "\u001b[31mNameError\u001b[39m: name 'List' is not defined"
     ]
    }
   ],
   "source": [
    "# TODO 3: Implementa bubble sort O(n^2)\n",
    "\n",
    "def bubble_sort(xs:List[int]) -> List[int]:\n",
    "    xs = xs[:]  # no mutar entrada\n",
    "    n = len(xs)\n",
    "    for i in range(n):\n",
    "        for j in range(0, n-i-1):\n",
    "            if xs[j] > xs[j+1]:\n",
    "                xs[j], xs[j+1] = xs[j+1], xs[j]\n",
    "    return xs\n",
    "\n",
    "# Tests rápidos\n",
    "arr = [5,1,4,2,8]\n",
    "assert bubble_sort(arr) == sorted(arr)\n",
    "xs = list(range(10))\n",
    "assert binary_search(xs, 7) == 7\n",
    "assert linear_search(xs, 7) == 7\n",
    "print(\"OK: funciones base listas.\")"
   ]
  },
  {
   "cell_type": "code",
   "execution_count": 6,
   "id": "5f7a17f6",
   "metadata": {},
   "outputs": [
    {
     "name": "stdout",
     "output_type": "stream",
     "text": [
      "== Búsqueda lineal vs binaria ==\n"
     ]
    },
    {
     "ename": "NameError",
     "evalue": "name 'rand_list' is not defined",
     "output_type": "error",
     "traceback": [
      "\u001b[31m---------------------------------------------------------------------------\u001b[39m",
      "\u001b[31mNameError\u001b[39m                                 Traceback (most recent call last)",
      "\u001b[36mCell\u001b[39m\u001b[36m \u001b[39m\u001b[32mIn[6]\u001b[39m\u001b[32m, line 5\u001b[39m\n\u001b[32m      3\u001b[39m \u001b[38;5;28mprint\u001b[39m(\u001b[33m\"\u001b[39m\u001b[33m== Búsqueda lineal vs binaria ==\u001b[39m\u001b[33m\"\u001b[39m)\n\u001b[32m      4\u001b[39m \u001b[38;5;28;01mfor\u001b[39;00m n \u001b[38;5;129;01min\u001b[39;00m sizes:\n\u001b[32m----> \u001b[39m\u001b[32m5\u001b[39m     data = \u001b[38;5;28msorted\u001b[39m(\u001b[43mrand_list\u001b[49m(n, unique=\u001b[38;5;28;01mTrue\u001b[39;00m))\n\u001b[32m      6\u001b[39m     target = data[-\u001b[32m1\u001b[39m]  \u001b[38;5;66;03m# peor caso aprox. para lineal\u001b[39;00m\n\u001b[32m      7\u001b[39m     mean_lin, s_lin = timeit(linear_search, data, target, repeat=\u001b[32m7\u001b[39m)\n",
      "\u001b[31mNameError\u001b[39m: name 'rand_list' is not defined"
     ]
    }
   ],
   "source": [
    "# Experimento: medir tiempos para distintos n\n",
    "sizes = [1_000, 5_000, 10_000, 20_000]\n",
    "print(\"== Búsqueda lineal vs binaria ==\")\n",
    "for n in sizes:\n",
    "    data = sorted(rand_list(n, unique=True))\n",
    "    target = data[-1]  # peor caso aprox. para lineal\n",
    "    mean_lin, s_lin = timeit(linear_search, data, target, repeat=7)\n",
    "    mean_bin, s_bin = timeit(binary_search, data, target, repeat=7)\n",
    "    print(f\"n={n:>7}  linear≈{mean_lin:.6f}s  binary≈{mean_bin:.6f}s\")\n",
    "\n",
    "\n",
    "print(\"\\n== Bubble sort (n^2) vs sort nativo (≈n log n) ==\")\n",
    "sizes2 = [500, 1_000, 2_000]  # bubble es costoso\n",
    "for n in sizes2:\n",
    "    data = rand_list(n, unique=True)\n",
    "    mean_bub, _ = timeit(bubble_sort, data, repeat=3)\n",
    "    mean_timsort, _ = timeit(sorted, data, repeat=3)  # Timsort de Python: O(n log n) en promedio\n",
    "    print(f\"n={n:>7}  bubble≈{mean_bub:.6f}s  sorted()≈{mean_timsort:.6f}s\")"
   ]
  }
 ],
 "metadata": {
  "kernelspec": {
   "display_name": "Python 3",
   "language": "python",
   "name": "python3"
  },
  "language_info": {
   "codemirror_mode": {
    "name": "ipython",
    "version": 3
   },
   "file_extension": ".py",
   "mimetype": "text/x-python",
   "name": "python",
   "nbconvert_exporter": "python",
   "pygments_lexer": "ipython3",
   "version": "3.13.5"
  }
 },
 "nbformat": 4,
 "nbformat_minor": 5
}
